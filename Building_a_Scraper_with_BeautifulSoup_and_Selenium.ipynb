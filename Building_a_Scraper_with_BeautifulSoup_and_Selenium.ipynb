{
 "cells": [
  {
   "cell_type": "code",
   "execution_count": 3,
   "metadata": {},
   "outputs": [],
   "source": [
    "from __future__ import print_function, division\n",
    "from sklearn.feature_extraction.text import CountVectorizer, TfidfVectorizer\n",
    "import requests\n",
    "import numpy as np\n",
    "import pandas as pd\n",
    "import matplotlib.pyplot as plt\n",
    "from bs4 import BeautifulSoup\n",
    "from selenium import webdriver\n",
    "import time\n",
    "import re\n",
    "import dateutil.parser\n",
    "from pprint import pprint\n",
    "import calendar\n",
    "\n",
    "% matplotlib inline"
   ]
  },
  {
   "cell_type": "code",
   "execution_count": 2,
   "metadata": {},
   "outputs": [],
   "source": [
    "# months need to be words\n",
    "month_names = [calendar.month_name[i] for i in range(1,13)]\n",
    "month_names;"
   ]
  },
  {
   "cell_type": "code",
   "execution_count": 3,
   "metadata": {},
   "outputs": [],
   "source": [
    "year_nums = [str(i) for i in range(2015,2018)]\n",
    "year_nums;"
   ]
  },
  {
   "cell_type": "code",
   "execution_count": 4,
   "metadata": {},
   "outputs": [],
   "source": [
    "# get 50 - 100 results per page\n",
    "\n",
    "url_list = []\n",
    "\n",
    "def get_url(months, years):\n",
    "    search = \"https://medium.com/search?q=\"\n",
    "    for y in years:\n",
    "        for m in months:\n",
    "            month = m\n",
    "            year = y\n",
    "            query = \"{}%20{}\".format(month, year)\n",
    "            url = search+query \n",
    "            url_list.append(url)\n",
    "    return url_list\n",
    "\n",
    "get_url(month_names, year_nums);"
   ]
  },
  {
   "cell_type": "code",
   "execution_count": 5,
   "metadata": {},
   "outputs": [],
   "source": [
    "url_list = get_url(month_names, year_nums)\n",
    "batch1 = url_list[:6]\n",
    "batch2 = url_list[6:12]\n",
    "batch3 = url_list[12:18]\n",
    "batch4 = url_list[18:24]\n",
    "batch5 = url_list[24:30]\n",
    "batch6 = url_list[30:36]"
   ]
  },
  {
   "cell_type": "code",
   "execution_count": 6,
   "metadata": {},
   "outputs": [],
   "source": [
    "xpath_baseline = '//*/div/div[3]/div[2]/div[2]/div[1]/div/div/div[{}]/div/div[2]/a'\n",
    "xpath_list = [xpath_baseline.format(x) for x in range(1,101)]"
   ]
  },
  {
   "cell_type": "code",
   "execution_count": 21,
   "metadata": {},
   "outputs": [],
   "source": [
    "title_list = []\n",
    "soup_dict = {}\n",
    "\n",
    "\n",
    "def get_html(batch, num_posts, fileid):\n",
    "    browser=webdriver.Chrome()\n",
    "    for url in batch:\n",
    "            \n",
    "        browser.get(url)\n",
    "        \n",
    "        for i in range(num_posts):\n",
    "        \n",
    "            far_enough = 0\n",
    "            while (far_enough == 0):\n",
    "                try:\n",
    "                    linkElem = browser.find_element_by_xpath(xpath_list[i])\n",
    "                    far_enough = 1\n",
    "                except:\n",
    "                    browser.execute_script(\"window.scrollTo(0, document.body.scrollHeight)\")\n",
    "                    time.sleep(np.random.randint(1,high=4))\n",
    "\n",
    "            linkElem = browser.find_element_by_xpath(xpath_list[i])\n",
    "            #scroll = 0\n",
    "            \n",
    "            if linkElem:\n",
    "                linkElem.click()\n",
    "                time.sleep(np.random.randint(1,high=3))\n",
    "                html = browser.page_source\n",
    "                soup = BeautifulSoup(html, \"lxml\")\n",
    "                title = soup.find('title').text.split('(')[0].strip()\n",
    "                title_list.append(title)\n",
    "                soup_dict[title] = soup\n",
    "\n",
    "                filename = \"medpost_{}_{}.txt\".format(fileid,i)\n",
    "                file_ = open(filename, 'w')\n",
    "                file_.write(html)\n",
    "                file_.close()\n",
    "            \n",
    "                browser.execute_script(\"window.history.go(-1)\")\n",
    "                #browser.execute_script(\"window.scrollTo(0, document.body.scrollHeight)\")\n",
    "                #browser.execute_script(\"window.scrollTo(0, (600*scroll))\")\n",
    "                #scroll +=1\n",
    "                #time.sleep(np.random.randint(1,high=4))\n",
    "            else:\n",
    "                pass\n",
    "            \n",
    "    browser.close()\n",
    "        \n",
    "    return title_list, results_dict"
   ]
  },
  {
   "cell_type": "code",
   "execution_count": 22,
   "metadata": {},
   "outputs": [
    {
     "ename": "TimeoutException",
     "evalue": "Message: timeout\n  (Session info: chrome=63.0.3239.132)\n  (Driver info: chromedriver=2.33.506106 (8a06c39c4582fbfbab6966dbb1c38a9173bfb1a2),platform=Mac OS X 10.12.6 x86_64)\n",
     "output_type": "error",
     "traceback": [
      "\u001b[0;31m---------------------------------------------------------------------------\u001b[0m",
      "\u001b[0;31mTimeoutException\u001b[0m                          Traceback (most recent call last)",
      "\u001b[0;32m<ipython-input-22-2b7249ed861a>\u001b[0m in \u001b[0;36m<module>\u001b[0;34m()\u001b[0m\n\u001b[0;32m----> 1\u001b[0;31m \u001b[0mbatch6_results\u001b[0m \u001b[0;34m=\u001b[0m \u001b[0mget_html\u001b[0m\u001b[0;34m(\u001b[0m\u001b[0mbatch6\u001b[0m\u001b[0;34m,\u001b[0m \u001b[0;36m50\u001b[0m\u001b[0;34m,\u001b[0m \u001b[0;34m\"batch6\"\u001b[0m\u001b[0;34m)\u001b[0m\u001b[0;34m\u001b[0m\u001b[0m\n\u001b[0m",
      "\u001b[0;32m<ipython-input-21-d2ca5ffde1eb>\u001b[0m in \u001b[0;36mget_html\u001b[0;34m(batch, num_posts, fileid)\u001b[0m\n\u001b[1;32m     26\u001b[0m                 \u001b[0mlinkElem\u001b[0m\u001b[0;34m.\u001b[0m\u001b[0mclick\u001b[0m\u001b[0;34m(\u001b[0m\u001b[0;34m)\u001b[0m\u001b[0;34m\u001b[0m\u001b[0m\n\u001b[1;32m     27\u001b[0m                 \u001b[0mtime\u001b[0m\u001b[0;34m.\u001b[0m\u001b[0msleep\u001b[0m\u001b[0;34m(\u001b[0m\u001b[0mnp\u001b[0m\u001b[0;34m.\u001b[0m\u001b[0mrandom\u001b[0m\u001b[0;34m.\u001b[0m\u001b[0mrandint\u001b[0m\u001b[0;34m(\u001b[0m\u001b[0;36m1\u001b[0m\u001b[0;34m,\u001b[0m\u001b[0mhigh\u001b[0m\u001b[0;34m=\u001b[0m\u001b[0;36m3\u001b[0m\u001b[0;34m)\u001b[0m\u001b[0;34m)\u001b[0m\u001b[0;34m\u001b[0m\u001b[0m\n\u001b[0;32m---> 28\u001b[0;31m                 \u001b[0mhtml\u001b[0m \u001b[0;34m=\u001b[0m \u001b[0mbrowser\u001b[0m\u001b[0;34m.\u001b[0m\u001b[0mpage_source\u001b[0m\u001b[0;34m\u001b[0m\u001b[0m\n\u001b[0m\u001b[1;32m     29\u001b[0m                 \u001b[0msoup\u001b[0m \u001b[0;34m=\u001b[0m \u001b[0mBeautifulSoup\u001b[0m\u001b[0;34m(\u001b[0m\u001b[0mhtml\u001b[0m\u001b[0;34m,\u001b[0m \u001b[0;34m\"lxml\"\u001b[0m\u001b[0;34m)\u001b[0m\u001b[0;34m\u001b[0m\u001b[0m\n\u001b[1;32m     30\u001b[0m                 \u001b[0mtitle\u001b[0m \u001b[0;34m=\u001b[0m \u001b[0msoup\u001b[0m\u001b[0;34m.\u001b[0m\u001b[0mfind\u001b[0m\u001b[0;34m(\u001b[0m\u001b[0;34m'title'\u001b[0m\u001b[0;34m)\u001b[0m\u001b[0;34m.\u001b[0m\u001b[0mtext\u001b[0m\u001b[0;34m.\u001b[0m\u001b[0msplit\u001b[0m\u001b[0;34m(\u001b[0m\u001b[0;34m'('\u001b[0m\u001b[0;34m)\u001b[0m\u001b[0;34m[\u001b[0m\u001b[0;36m0\u001b[0m\u001b[0;34m]\u001b[0m\u001b[0;34m.\u001b[0m\u001b[0mstrip\u001b[0m\u001b[0;34m(\u001b[0m\u001b[0;34m)\u001b[0m\u001b[0;34m\u001b[0m\u001b[0m\n",
      "\u001b[0;32m~/anaconda3/lib/python3.6/site-packages/selenium/webdriver/remote/webdriver.py\u001b[0m in \u001b[0;36mpage_source\u001b[0;34m(self)\u001b[0m\n\u001b[1;32m    668\u001b[0m             \u001b[0mdriver\u001b[0m\u001b[0;34m.\u001b[0m\u001b[0mpage_source\u001b[0m\u001b[0;34m\u001b[0m\u001b[0m\n\u001b[1;32m    669\u001b[0m         \"\"\"\n\u001b[0;32m--> 670\u001b[0;31m         \u001b[0;32mreturn\u001b[0m \u001b[0mself\u001b[0m\u001b[0;34m.\u001b[0m\u001b[0mexecute\u001b[0m\u001b[0;34m(\u001b[0m\u001b[0mCommand\u001b[0m\u001b[0;34m.\u001b[0m\u001b[0mGET_PAGE_SOURCE\u001b[0m\u001b[0;34m)\u001b[0m\u001b[0;34m[\u001b[0m\u001b[0;34m'value'\u001b[0m\u001b[0;34m]\u001b[0m\u001b[0;34m\u001b[0m\u001b[0m\n\u001b[0m\u001b[1;32m    671\u001b[0m \u001b[0;34m\u001b[0m\u001b[0m\n\u001b[1;32m    672\u001b[0m     \u001b[0;32mdef\u001b[0m \u001b[0mclose\u001b[0m\u001b[0;34m(\u001b[0m\u001b[0mself\u001b[0m\u001b[0;34m)\u001b[0m\u001b[0;34m:\u001b[0m\u001b[0;34m\u001b[0m\u001b[0m\n",
      "\u001b[0;32m~/anaconda3/lib/python3.6/site-packages/selenium/webdriver/remote/webdriver.py\u001b[0m in \u001b[0;36mexecute\u001b[0;34m(self, driver_command, params)\u001b[0m\n\u001b[1;32m    310\u001b[0m         \u001b[0mresponse\u001b[0m \u001b[0;34m=\u001b[0m \u001b[0mself\u001b[0m\u001b[0;34m.\u001b[0m\u001b[0mcommand_executor\u001b[0m\u001b[0;34m.\u001b[0m\u001b[0mexecute\u001b[0m\u001b[0;34m(\u001b[0m\u001b[0mdriver_command\u001b[0m\u001b[0;34m,\u001b[0m \u001b[0mparams\u001b[0m\u001b[0;34m)\u001b[0m\u001b[0;34m\u001b[0m\u001b[0m\n\u001b[1;32m    311\u001b[0m         \u001b[0;32mif\u001b[0m \u001b[0mresponse\u001b[0m\u001b[0;34m:\u001b[0m\u001b[0;34m\u001b[0m\u001b[0m\n\u001b[0;32m--> 312\u001b[0;31m             \u001b[0mself\u001b[0m\u001b[0;34m.\u001b[0m\u001b[0merror_handler\u001b[0m\u001b[0;34m.\u001b[0m\u001b[0mcheck_response\u001b[0m\u001b[0;34m(\u001b[0m\u001b[0mresponse\u001b[0m\u001b[0;34m)\u001b[0m\u001b[0;34m\u001b[0m\u001b[0m\n\u001b[0m\u001b[1;32m    313\u001b[0m             response['value'] = self._unwrap_value(\n\u001b[1;32m    314\u001b[0m                 response.get('value', None))\n",
      "\u001b[0;32m~/anaconda3/lib/python3.6/site-packages/selenium/webdriver/remote/errorhandler.py\u001b[0m in \u001b[0;36mcheck_response\u001b[0;34m(self, response)\u001b[0m\n\u001b[1;32m    235\u001b[0m         \u001b[0;32melif\u001b[0m \u001b[0mexception_class\u001b[0m \u001b[0;34m==\u001b[0m \u001b[0mUnexpectedAlertPresentException\u001b[0m \u001b[0;32mand\u001b[0m \u001b[0;34m'alert'\u001b[0m \u001b[0;32min\u001b[0m \u001b[0mvalue\u001b[0m\u001b[0;34m:\u001b[0m\u001b[0;34m\u001b[0m\u001b[0m\n\u001b[1;32m    236\u001b[0m             \u001b[0;32mraise\u001b[0m \u001b[0mexception_class\u001b[0m\u001b[0;34m(\u001b[0m\u001b[0mmessage\u001b[0m\u001b[0;34m,\u001b[0m \u001b[0mscreen\u001b[0m\u001b[0;34m,\u001b[0m \u001b[0mstacktrace\u001b[0m\u001b[0;34m,\u001b[0m \u001b[0mvalue\u001b[0m\u001b[0;34m[\u001b[0m\u001b[0;34m'alert'\u001b[0m\u001b[0;34m]\u001b[0m\u001b[0;34m.\u001b[0m\u001b[0mget\u001b[0m\u001b[0;34m(\u001b[0m\u001b[0;34m'text'\u001b[0m\u001b[0;34m)\u001b[0m\u001b[0;34m)\u001b[0m\u001b[0;34m\u001b[0m\u001b[0m\n\u001b[0;32m--> 237\u001b[0;31m         \u001b[0;32mraise\u001b[0m \u001b[0mexception_class\u001b[0m\u001b[0;34m(\u001b[0m\u001b[0mmessage\u001b[0m\u001b[0;34m,\u001b[0m \u001b[0mscreen\u001b[0m\u001b[0;34m,\u001b[0m \u001b[0mstacktrace\u001b[0m\u001b[0;34m)\u001b[0m\u001b[0;34m\u001b[0m\u001b[0m\n\u001b[0m\u001b[1;32m    238\u001b[0m \u001b[0;34m\u001b[0m\u001b[0m\n\u001b[1;32m    239\u001b[0m     \u001b[0;32mdef\u001b[0m \u001b[0m_value_or_default\u001b[0m\u001b[0;34m(\u001b[0m\u001b[0mself\u001b[0m\u001b[0;34m,\u001b[0m \u001b[0mobj\u001b[0m\u001b[0;34m,\u001b[0m \u001b[0mkey\u001b[0m\u001b[0;34m,\u001b[0m \u001b[0mdefault\u001b[0m\u001b[0;34m)\u001b[0m\u001b[0;34m:\u001b[0m\u001b[0;34m\u001b[0m\u001b[0m\n",
      "\u001b[0;31mTimeoutException\u001b[0m: Message: timeout\n  (Session info: chrome=63.0.3239.132)\n  (Driver info: chromedriver=2.33.506106 (8a06c39c4582fbfbab6966dbb1c38a9173bfb1a2),platform=Mac OS X 10.12.6 x86_64)\n"
     ]
    }
   ],
   "source": [
    "batch6_results = get_html(batch6, 50, \"batch6\")"
   ]
  },
  {
   "cell_type": "code",
   "execution_count": 23,
   "metadata": {},
   "outputs": [
    {
     "data": {
      "text/plain": [
       "'https://medium.com/search?q=July%202017'"
      ]
     },
     "execution_count": 23,
     "metadata": {},
     "output_type": "execute_result"
    }
   ],
   "source": [
    "url_list[30]"
   ]
  },
  {
   "cell_type": "code",
   "execution_count": 4,
   "metadata": {},
   "outputs": [
    {
     "data": {
      "text/plain": [
       "200"
      ]
     },
     "execution_count": 4,
     "metadata": {},
     "output_type": "execute_result"
    }
   ],
   "source": [
    "url = 'https://medium.com/search?q=July%202017'\n",
    "response = requests.get(url)\n",
    "response.status_code"
   ]
  },
  {
   "cell_type": "code",
   "execution_count": 5,
   "metadata": {},
   "outputs": [],
   "source": [
    "page = response.text\n",
    "soup = BeautifulSoup(page, \"lxml\")"
   ]
  },
  {
   "cell_type": "code",
   "execution_count": 10,
   "metadata": {},
   "outputs": [
    {
     "name": "stdout",
     "output_type": "stream",
     "text": [
      "https://medium.com/\n",
      "https://medium.com/membership?source=upgrade_membership---nav_full\n",
      "https://medium.com/search\n",
      "https://medium.com/m/signin?redirect=https%3A%2F%2Fmedium.com%2Fsearch%3Fq%3DJuly%25202017&source=--------------------------nav_reg&operation=login\n",
      "https://medium.com/m/signin?redirect=https%3A%2F%2Fmedium.com%2Fsearch%3Fq%3DJuly%25202017&source=--------------------------nav_reg&operation=register\n",
      "https://medium.com/\n",
      "https://medium.com/search?q=July%202017\n",
      "https://medium.com/search/users?q=July%202017\n",
      "https://medium.com/search/publications?q=July%202017\n",
      "https://medium.com/search/tags?q=July%202017\n",
      "https://medium.mybridge.co/@Mybridge\n",
      "https://medium.mybridge.co/@Mybridge?source=search_post---------0\n",
      "https://medium.mybridge.co?source=search_post---------0\n",
      "https://medium.mybridge.co/react-js-top-10-articles-for-the-past-month-v-july-2017-f7f0696dfa76?source=search_post---------0\n",
      "https://medium.mybridge.co/react-js-top-10-articles-for-the-past-month-v-july-2017-f7f0696dfa76?source=search_post---------0\n",
      "https://medium.mybridge.co/react-js-top-10-articles-for-the-past-month-v-july-2017-f7f0696dfa76?source=search_post---------0\n",
      "https://medium.mybridge.co/react-js-top-10-articles-for-the-past-month-v-july-2017-f7f0696dfa76?source=search_post---------0#--responses\n",
      "https://medium.mybridge.co/@Mybridge\n",
      "https://medium.mybridge.co/@Mybridge?source=search_post---------1\n",
      "https://medium.mybridge.co?source=search_post---------1\n",
      "https://medium.mybridge.co/javascript-top-10-articles-for-the-past-month-v-july-2017-e2c7ef982149?source=search_post---------1\n",
      "https://medium.mybridge.co/javascript-top-10-articles-for-the-past-month-v-july-2017-e2c7ef982149?source=search_post---------1\n",
      "https://medium.mybridge.co/javascript-top-10-articles-for-the-past-month-v-july-2017-e2c7ef982149?source=search_post---------1\n",
      "https://medium.mybridge.co/@Mybridge\n",
      "https://medium.mybridge.co/@Mybridge?source=search_post---------2\n",
      "https://medium.mybridge.co?source=search_post---------2\n",
      "https://medium.mybridge.co/node-js-top-10-articles-for-the-past-month-v-july-2017-6832a5296554?source=search_post---------2\n",
      "https://medium.mybridge.co/node-js-top-10-articles-for-the-past-month-v-july-2017-6832a5296554?source=search_post---------2\n",
      "https://medium.mybridge.co/node-js-top-10-articles-for-the-past-month-v-july-2017-6832a5296554?source=search_post---------2\n",
      "https://medium.cobeisfresh.com/@COBEistech\n",
      "https://medium.cobeisfresh.com/@COBEistech?source=search_post---------3\n",
      "https://medium.cobeisfresh.com?source=search_post---------3\n",
      "https://medium.cobeisfresh.com/top-5-ios-libraries-july-2017-180826e6f5bf?source=search_post---------3\n",
      "https://medium.cobeisfresh.com/top-5-ios-libraries-july-2017-180826e6f5bf?source=search_post---------3\n",
      "https://medium.cobeisfresh.com/top-5-ios-libraries-july-2017-180826e6f5bf?source=search_post---------3\n",
      "https://medium.cobeisfresh.com/top-5-ios-libraries-july-2017-180826e6f5bf?source=search_post---------3#--responses\n",
      "https://medium.cobeisfresh.com/@COBEistech\n",
      "https://medium.cobeisfresh.com/@COBEistech?source=search_post---------4\n",
      "https://medium.cobeisfresh.com?source=search_post---------4\n",
      "https://medium.cobeisfresh.com/top-5-android-libraries-june-2017-7cad6a7b8d0?source=search_post---------4\n",
      "https://medium.cobeisfresh.com/top-5-android-libraries-june-2017-7cad6a7b8d0?source=search_post---------4\n",
      "https://medium.cobeisfresh.com/top-5-android-libraries-june-2017-7cad6a7b8d0?source=search_post---------4\n",
      "https://medium.cobeisfresh.com/top-5-android-libraries-june-2017-7cad6a7b8d0?source=search_post---------4#--responses\n",
      "https://medium.com/@CollectUI\n",
      "https://medium.com/@CollectUI?source=search_post---------5\n",
      "https://medium.com/collect-ui-design-ui-ux-inspiration-blog?source=search_post---------5\n",
      "https://medium.com/collect-ui-design-ui-ux-inspiration-blog/ui-interaction-gifs-of-the-month-july-2017-53f87b51a2be?source=search_post---------5\n",
      "https://medium.com/collect-ui-design-ui-ux-inspiration-blog/ui-interaction-gifs-of-the-month-july-2017-53f87b51a2be?source=search_post---------5\n",
      "https://medium.com/collect-ui-design-ui-ux-inspiration-blog/ui-interaction-gifs-of-the-month-july-2017-53f87b51a2be?source=search_post---------5\n",
      "https://codeburst.io/@bmorelli25\n",
      "https://codeburst.io/@bmorelli25?source=search_post---------6\n",
      "https://codeburst.io?source=search_post---------6\n",
      "https://codeburst.io/july-2017-javascript-recap-15-articles-tutorials-e946ef7eedbb?source=search_post---------6\n",
      "https://codeburst.io/july-2017-javascript-recap-15-articles-tutorials-e946ef7eedbb?source=search_post---------6\n",
      "https://codeburst.io/july-2017-javascript-recap-15-articles-tutorials-e946ef7eedbb?source=search_post---------6\n",
      "https://stories.uplabs.com/@uplabs\n",
      "https://stories.uplabs.com/@uplabs?source=search_post---------7\n",
      "https://stories.uplabs.com?source=search_post---------7\n",
      "https://stories.uplabs.com/the-best-of-ios-design-in-july-2017-96df92f51bc2?source=search_post---------7\n",
      "https://stories.uplabs.com/the-best-of-ios-design-in-july-2017-96df92f51bc2?source=search_post---------7\n",
      "https://stories.uplabs.com/the-best-of-ios-design-in-july-2017-96df92f51bc2?source=search_post---------7\n",
      "https://stories.uplabs.com/the-best-of-ios-design-in-july-2017-96df92f51bc2?source=search_post---------7#--responses\n",
      "https://stories.uplabs.com/@uplabs\n",
      "https://stories.uplabs.com/@uplabs?source=search_post---------8\n",
      "https://stories.uplabs.com?source=search_post---------8\n",
      "https://stories.uplabs.com/the-best-of-material-design-in-july-2017-1353d5d8a434?source=search_post---------8\n",
      "https://stories.uplabs.com/the-best-of-material-design-in-july-2017-1353d5d8a434?source=search_post---------8\n",
      "https://stories.uplabs.com/the-best-of-material-design-in-july-2017-1353d5d8a434?source=search_post---------8\n",
      "https://medium.com/@euk\n",
      "https://medium.com/@euk?source=search_post---------9\n",
      "https://medium.com/iconominet?source=search_post---------9\n",
      "https://medium.com/iconominet/iconomi-monthly-update-july-2017-207ba56bfcf3?source=search_post---------9\n",
      "https://medium.com/iconominet/iconomi-monthly-update-july-2017-207ba56bfcf3?source=search_post---------9\n",
      "https://medium.com/iconominet/iconomi-monthly-update-july-2017-207ba56bfcf3?source=search_post---------9\n",
      "https://medium.com/iconominet/iconomi-monthly-update-july-2017-207ba56bfcf3?source=search_post---------9#--responses\n",
      "https://medium.com/tag/july-2017?source=search\n",
      "https://medium.com/tag/free?source=search\n",
      "https://medium.com/tag/international?source=search\n",
      "https://medium.com/tag/giveaways-2017?source=search\n",
      "https://medium.com/tag/giveaway-2017?source=search\n",
      "https://medium.com/tag/%C3%A2%C3%BB?source=search\n",
      "https://medium.com/tag/politics?source=search\n",
      "https://medium.com/tag/blockchain?source=search\n",
      "https://medium.com/tag/startup?source=search\n",
      "https://medium.com/tag/travel?source=search\n",
      "https://medium.com/@LesNapoleons_51344?source=search_user\n",
      "https://medium.com/@LesNapoleons_51344\n",
      "https://medium.com/@LondonLGBTPride?source=search_user\n",
      "https://medium.com/@LondonLGBTPride\n",
      "http://twitter.com/UKPrideNetwork\n",
      "https://medium.com/@UX_Awards?source=search_user\n",
      "https://medium.com/@UX_Awards\n",
      "https://medium.com/writing-the-big-city-july-2017?source=search_collection\n",
      "https://medium.com/writing-the-big-city-july-2017?source=search_collection\n",
      "https://medium.com/ocm-thailand-stm-july2017?source=search_collection\n",
      "https://medium.com/ocm-thailand-stm-july2017?source=search_collection\n",
      "https://medium.com/on-the-road-whats-working-in-northeast-cities?source=search_collection\n",
      "https://medium.com/on-the-road-whats-working-in-northeast-cities?source=search_collection\n"
     ]
    }
   ],
   "source": [
    "for link in soup.find_all('a'):\n",
    "    print(link.get('href'))"
   ]
  },
  {
   "cell_type": "code",
   "execution_count": 6,
   "metadata": {},
   "outputs": [],
   "source": [
    "some_links = soup.find_all('a')"
   ]
  },
  {
   "cell_type": "code",
   "execution_count": 7,
   "metadata": {},
   "outputs": [],
   "source": [
    "some_links[:5];"
   ]
  },
  {
   "cell_type": "code",
   "execution_count": 8,
   "metadata": {},
   "outputs": [
    {
     "data": {
      "text/plain": [
       "[<a data-action=\"open-post\" data-action-index=\"0\" data-action-source=\"search_post---------0\" data-action-value=\"https://medium.mybridge.co/react-js-top-10-articles-for-the-past-month-v-july-2017-f7f0696dfa76?source=search_post---------0\" data-post-id=\"f7f0696dfa76\" href=\"https://medium.mybridge.co/react-js-top-10-articles-for-the-past-month-v-july-2017-f7f0696dfa76?source=search_post---------0\"><section class=\"section section--body section--first section--last\"><div class=\"section-divider\"><hr class=\"section-divider\"/></div><div class=\"section-content\"><div class=\"section-inner sectionLayout--insetColumn\"><figure class=\"graf graf--figure graf--layoutCroppedHeightPreview graf--leading\" id=\"5c26\" name=\"5c26\"><div class=\"aspectRatioPlaceholder is-locked\"><div class=\"aspectRatioPlaceholder-fill\" style=\"padding-bottom: 30%;\"></div><img class=\"graf-image\" data-height=\"535\" data-image-id=\"1*0Xe4WXjf9b5BZqaCzsXIkw.png\" data-width=\"1380\" src=\"https://cdn-images-1.medium.com/fit/t/1600/480/1*0Xe4WXjf9b5BZqaCzsXIkw.png\"/></div></figure><h3 class=\"graf graf--h3 graf-after--figure graf--trailing graf--title\" id=\"91d9\" name=\"91d9\">React.JS Top 10 Articles for the Past Month (v.July 2017)</h3></div></div></section></a>]"
      ]
     },
     "execution_count": 8,
     "metadata": {},
     "output_type": "execute_result"
    }
   ],
   "source": [
    "more_links = [x.find_all('a') for x in soup.find_all(class_=\"postArticle-content\")]\n",
    "more_links[0]"
   ]
  },
  {
   "cell_type": "code",
   "execution_count": 9,
   "metadata": {},
   "outputs": [
    {
     "data": {
      "text/plain": [
       "1"
      ]
     },
     "execution_count": 9,
     "metadata": {},
     "output_type": "execute_result"
    }
   ],
   "source": [
    "len(more_links[0])"
   ]
  },
  {
   "cell_type": "code",
   "execution_count": 11,
   "metadata": {},
   "outputs": [
    {
     "name": "stdout",
     "output_type": "stream",
     "text": [
      "https://medium.com/on-the-road-whats-working-in-northeast-cities?source=search_collection\n",
      "https://medium.com/on-the-road-whats-working-in-northeast-cities?source=search_collection\n",
      "https://medium.com/on-the-road-whats-working-in-northeast-cities?source=search_collection\n",
      "https://medium.com/on-the-road-whats-working-in-northeast-cities?source=search_collection\n",
      "https://medium.com/on-the-road-whats-working-in-northeast-cities?source=search_collection\n",
      "https://medium.com/on-the-road-whats-working-in-northeast-cities?source=search_collection\n",
      "https://medium.com/on-the-road-whats-working-in-northeast-cities?source=search_collection\n",
      "https://medium.com/on-the-road-whats-working-in-northeast-cities?source=search_collection\n",
      "https://medium.com/on-the-road-whats-working-in-northeast-cities?source=search_collection\n",
      "https://medium.com/on-the-road-whats-working-in-northeast-cities?source=search_collection\n"
     ]
    }
   ],
   "source": [
    "for section in more_links:\n",
    "    print(link.get('href'))"
   ]
  },
  {
   "cell_type": "code",
   "execution_count": null,
   "metadata": {},
   "outputs": [],
   "source": []
  }
 ],
 "metadata": {
  "kernelspec": {
   "display_name": "Python 3",
   "language": "python",
   "name": "python3"
  },
  "language_info": {
   "codemirror_mode": {
    "name": "ipython",
    "version": 3
   },
   "file_extension": ".py",
   "mimetype": "text/x-python",
   "name": "python",
   "nbconvert_exporter": "python",
   "pygments_lexer": "ipython3",
   "version": "3.6.4"
  }
 },
 "nbformat": 4,
 "nbformat_minor": 2
}
